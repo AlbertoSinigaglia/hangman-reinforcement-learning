{
 "cells": [
  {
   "cell_type": "code",
   "execution_count": 36,
   "metadata": {
    "collapsed": true
   },
   "outputs": [],
   "source": [
    "import random\n",
    "from functools import cache\n",
    "from tqdm import trange\n",
    "\n",
    "import tensorflow as tf\n",
    "import numpy as np\n",
    "\n",
    "def num_chars(d):\n",
    "    set_ = set()\n",
    "    for s in d:\n",
    "        for l in s:\n",
    "            set_.add(l)\n",
    "    return len(set_), set_\n",
    "\n",
    "@cache\n",
    "def get_dataset(path):\n",
    "    print(\"loading dataset\")\n",
    "    with open(path) as file:\n",
    "        dataset = [s.strip() for s in file.readlines()]\n",
    "    return dataset, *num_chars(dataset)"
   ]
  },
  {
   "cell_type": "code",
   "execution_count": 46,
   "outputs": [],
   "source": [
    "class Environment:\n",
    "    def __init__(self, path, max_lives = 10):\n",
    "        self.dataset, self.letters, self.letters_list = get_dataset(path)\n",
    "        self.max_len = max([len(s) for s in self.dataset])\n",
    "        self.only_letters_list = list(self.letters_list)\n",
    "        self.letters_list = list(self.letters_list) + [\"_\"] # used for placeholder for guessed letters\n",
    "        self.lives = 0\n",
    "        self.max_lives = max_lives\n",
    "        self.current_word = self.dataset[random.randrange(0, len(self.dataset))]\n",
    "        self.current_word_remaining = self.current_word\n",
    "        self.already_chosen_letters = []\n",
    "\n",
    "    def act(self, letter:str):\n",
    "        if letter in self.already_chosen_letters:\n",
    "            raise Exception(\"already chosen\")\n",
    "        if letter == \"_\":\n",
    "            raise Exception(\"what? '_'?\")\n",
    "\n",
    "\n",
    "        self.already_chosen_letters.append(letter)\n",
    "        if letter not in self.current_word:\n",
    "            self.lives += 1\n",
    "            if self.lives == self.max_lives:\n",
    "                self.reset()\n",
    "                return -1, 1\n",
    "            return -1, 0\n",
    "\n",
    "        self.current_word_remaining = self.current_word_remaining.replace(letter, \"_\")\n",
    "        if len(set(list(self.current_word_remaining))) == 1:\n",
    "            return 1, 1\n",
    "\n",
    "        return 1, 0\n",
    "\n",
    "    def reset(self):\n",
    "        self.lives = 0\n",
    "        self.current_word = self.dataset[random.randrange(0, len(self.dataset))]\n",
    "        self.current_word_remaining = self.current_word\n",
    "        self.already_chosen_letters = []\n",
    "\n",
    "\n",
    "class Agent:\n",
    "    def __init__(self, env:Environment):\n",
    "        self.discount = 0.999\n",
    "        self.clip_eps = 0.2\n",
    "        self.actor = tf.keras.Sequential([\n",
    "            tf.keras.layers.Dense(64, activation=tf.nn.selu),\n",
    "            tf.keras.layers.Dense(64, activation=tf.nn.selu),\n",
    "            tf.keras.layers.Dense(len(env.only_letters_list), activation=\"softmax\")\n",
    "        ])\n",
    "\n",
    "        self.critic = tf.keras.Sequential([\n",
    "            tf.keras.layers.Dense(64, activation=tf.nn.selu),\n",
    "            tf.keras.layers.Dense(64, activation=tf.nn.selu),\n",
    "            tf.keras.layers.Dense(1, activation=\"linear\")\n",
    "        ])\n",
    "\n",
    "        self.optimizer_actor = tf.optimizers.legacy.Adam(4e-4)\n",
    "        self.optimizer_critic = tf.optimizers.legacy.Adam(4e-4)\n",
    "\n",
    "    def mask(self, env:Environment):\n",
    "        mask = np.ones(len(env.only_letters_list))\n",
    "        for l in env.already_chosen_letters:\n",
    "            mask[self.only_letter_to_int(env, l)] = 0\n",
    "        return mask\n",
    "\n",
    "    def state(self, env:Environment):\n",
    "        w = np.zeros((env.max_len, len(env.letters_list) + 1))\n",
    "        for i in range(env.max_len):\n",
    "            if i < len(env.current_word):\n",
    "                w[i, self.letter_to_int(env, env.current_word[i])] = 1\n",
    "            else:\n",
    "                w[i, 0] = 1\n",
    "\n",
    "        l = np.zeros(len(env.letters_list) + 1)\n",
    "        for el in env.already_chosen_letters:\n",
    "            l[self.letter_to_int(env, el)] = 1\n",
    "\n",
    "        d = np.zeros(env.max_lives)\n",
    "        d[env.lives] = 1\n",
    "\n",
    "        return np.concatenate((\n",
    "            w.reshape((-1)),\n",
    "            l.reshape((-1)),\n",
    "            d.reshape((-1))\n",
    "        ))\n",
    "\n",
    "    def letter_to_int(self, env: Environment, letter):\n",
    "        return env.letters_list.index(letter) + 1\n",
    "\n",
    "    def only_letter_to_int(self, env: Environment, letter):\n",
    "        return env.letters_list.index(letter)\n",
    "\n",
    "    def int_to_only_letter(self, env: Environment, letter_idx):\n",
    "        return env.only_letters_list[letter_idx]\n",
    "\n",
    "    def learn(self, states, new_states, samples, rewards, dones, masks):\n",
    "        actions = tf.one_hot(samples, depth=masks.shape[-1])\n",
    "        initial_probs = None\n",
    "\n",
    "        val = self.critic(states)\n",
    "        new_val = self.critic(new_states)\n",
    "\n",
    "        reward_to_go = tf.stop_gradient(rewards + self.discount * new_val * (1-dones))\n",
    "        td_error = reward_to_go - val\n",
    "\n",
    "        for _ in range(10):\n",
    "            with tf.GradientTape() as a_tape:\n",
    "                probs = self.actor(states)\n",
    "                probs = probs * masks\n",
    "                probs = probs / tf.reduce_sum(probs, axis=-1, keepdims=True)\n",
    "\n",
    "                selected_actions_probs = tf.reduce_sum(probs * actions, axis=-1, keepdims=True)\n",
    "\n",
    "                if initial_probs is None:\n",
    "                    initial_probs = tf.convert_to_tensor(tf.stop_gradient(selected_actions_probs))\n",
    "                importance_sampling_ratio = selected_actions_probs / (initial_probs + 1e-8)\n",
    "\n",
    "\n",
    "                loss_actor = tf.minimum(\n",
    "                    td_error * importance_sampling_ratio,\n",
    "                    td_error * tf.clip_by_value(importance_sampling_ratio, 1 - self.clip_eps, 1 + self.clip_eps)\n",
    "                )\n",
    "\n",
    "                loss_actor = tf.reduce_mean(-loss_actor)\n",
    "\n",
    "            grad_actor = a_tape.gradient(loss_actor, self.actor.trainable_weights)\n",
    "            self.optimizer_actor.apply_gradients(zip(grad_actor, self.actor.trainable_weights))\n",
    "\n",
    "        for _ in range(3):\n",
    "            with tf.GradientTape() as c_tape:\n",
    "                val = self.critic(states)\n",
    "                new_val = tf.stop_gradient(self.critic(new_states))\n",
    "\n",
    "                reward_to_go = tf.stop_gradient(rewards + self.discount * new_val * (1-dones))\n",
    "\n",
    "                loss_critic = tf.losses.mean_squared_error(val, reward_to_go)[:, None]\n",
    "\n",
    "                loss_critic = tf.reduce_mean(loss_critic)\n",
    "\n",
    "            grad_critic = c_tape.gradient(loss_critic, self.critic.trainable_weights)\n",
    "            self.optimizer_critic.apply_gradients(zip(grad_critic, self.critic.trainable_weights))"
   ],
   "metadata": {
    "collapsed": false,
    "pycharm": {
     "name": "#%%\n"
    }
   }
  },
  {
   "cell_type": "code",
   "execution_count": 47,
   "outputs": [],
   "source": [
    "envs = [Environment(\"dataset.txt\") for _ in range(256)]"
   ],
   "metadata": {
    "collapsed": false,
    "pycharm": {
     "name": "#%%\n"
    }
   }
  },
  {
   "cell_type": "code",
   "execution_count": 48,
   "outputs": [],
   "source": [
    "agent = Agent(envs[0])"
   ],
   "metadata": {
    "collapsed": false,
    "pycharm": {
     "name": "#%%\n"
    }
   }
  },
  {
   "cell_type": "code",
   "execution_count": 49,
   "outputs": [
    {
     "name": "stderr",
     "output_type": "stream",
     "text": [
      " 56%|█████▌    | 5562/10000 [23:18<18:35,  3.98it/s]\n"
     ]
    },
    {
     "ename": "IndexError",
     "evalue": "list index out of range",
     "output_type": "error",
     "traceback": [
      "\u001B[0;31m---------------------------------------------------------------------------\u001B[0m",
      "\u001B[0;31mIndexError\u001B[0m                                Traceback (most recent call last)",
      "Cell \u001B[0;32mIn[49], line 20\u001B[0m\n\u001B[1;32m     18\u001B[0m dones \u001B[38;5;241m=\u001B[39m []\n\u001B[1;32m     19\u001B[0m \u001B[38;5;28;01mfor\u001B[39;00m sample, env \u001B[38;5;129;01min\u001B[39;00m \u001B[38;5;28mzip\u001B[39m(samples, envs):\n\u001B[0;32m---> 20\u001B[0m     r,d \u001B[38;5;241m=\u001B[39m env\u001B[38;5;241m.\u001B[39mact(\u001B[43magent\u001B[49m\u001B[38;5;241;43m.\u001B[39;49m\u001B[43mint_to_only_letter\u001B[49m\u001B[43m(\u001B[49m\u001B[43menv\u001B[49m\u001B[43m,\u001B[49m\u001B[43m \u001B[49m\u001B[43msample\u001B[49m\u001B[43m)\u001B[49m)\n\u001B[1;32m     21\u001B[0m     rewards\u001B[38;5;241m.\u001B[39mappend(r)\n\u001B[1;32m     22\u001B[0m     dones\u001B[38;5;241m.\u001B[39mappend(d)\n",
      "Cell \u001B[0;32mIn[46], line 94\u001B[0m, in \u001B[0;36mAgent.int_to_only_letter\u001B[0;34m(self, env, letter_idx)\u001B[0m\n\u001B[1;32m     93\u001B[0m \u001B[38;5;28;01mdef\u001B[39;00m \u001B[38;5;21mint_to_only_letter\u001B[39m(\u001B[38;5;28mself\u001B[39m, env: Environment, letter_idx):\n\u001B[0;32m---> 94\u001B[0m     \u001B[38;5;28;01mreturn\u001B[39;00m \u001B[43menv\u001B[49m\u001B[38;5;241;43m.\u001B[39;49m\u001B[43monly_letters_list\u001B[49m\u001B[43m[\u001B[49m\u001B[43mletter_idx\u001B[49m\u001B[43m]\u001B[49m\n",
      "\u001B[0;31mIndexError\u001B[0m: list index out of range"
     ]
    }
   ],
   "source": [
    "rewards_history = []\n",
    "for e in trange(10000):\n",
    "    states = []\n",
    "    masks = []\n",
    "    for env in envs:\n",
    "        states.append(agent.state(env))\n",
    "        masks.append(agent.mask(env))\n",
    "    states = np.array(states)\n",
    "    masks = np.array(masks)\n",
    "\n",
    "    probs = agent.actor(states)\n",
    "    probs = probs * masks\n",
    "    probs = probs * tf.linalg.norm(probs, ord=1, axis=-1)[0]\n",
    "\n",
    "    samples = tf.random.categorical(tf.math.log(probs), 1)[:, 0]\n",
    "\n",
    "    rewards = []\n",
    "    dones = []\n",
    "    for sample, env in zip(samples, envs):\n",
    "        r,d = env.act(agent.int_to_only_letter(env, sample))\n",
    "        rewards.append(r)\n",
    "        dones.append(d)\n",
    "\n",
    "\n",
    "    rewards = np.array(rewards)\n",
    "    dones = np.array(dones)\n",
    "\n",
    "    new_states = []\n",
    "    for env in envs:\n",
    "        new_states.append(agent.state(env))\n",
    "    new_states = np.array(new_states)\n",
    "\n",
    "\n",
    "    agent.learn(states, new_states, samples, rewards, dones, masks)\n",
    "    rewards_history.append(np.mean(rewards))\n",
    "\n",
    "\n"
   ],
   "metadata": {
    "collapsed": false,
    "pycharm": {
     "name": "#%%\n"
    }
   }
  },
  {
   "cell_type": "code",
   "execution_count": 40,
   "outputs": [],
   "source": [
    "import matplotlib.pyplot as plt"
   ],
   "metadata": {
    "collapsed": false,
    "pycharm": {
     "name": "#%%\n"
    }
   }
  },
  {
   "cell_type": "code",
   "execution_count": 44,
   "outputs": [],
   "source": [
    "rewards_history = np.reshape(rewards_history, (-1, 50)).mean(axis=-1)"
   ],
   "metadata": {
    "collapsed": false,
    "pycharm": {
     "name": "#%%\n"
    }
   }
  },
  {
   "cell_type": "code",
   "execution_count": 45,
   "outputs": [
    {
     "data": {
      "text/plain": "[<matplotlib.lines.Line2D at 0x1639ac280>]"
     },
     "execution_count": 45,
     "metadata": {},
     "output_type": "execute_result"
    },
    {
     "data": {
      "text/plain": "<Figure size 640x480 with 1 Axes>",
      "image/png": "[encoded data removed]"
     },
     "metadata": {},
     "output_type": "display_data"
    }
   ],
   "source": [
    "plt.plot(rewards_history)"
   ],
   "metadata": {
    "collapsed": false,
    "pycharm": {
     "name": "#%%\n"
    }
   }
  },
  {
   "cell_type": "code",
   "execution_count": null,
   "outputs": [],
   "source": [],
   "metadata": {
    "collapsed": false,
    "pycharm": {
     "name": "#%%\n"
    }
   }
  }
 ],
 "metadata": {
  "kernelspec": {
   "name": "ml-apple-metal-3-10",
   "language": "python",
   "display_name": "Python 3.10 (ML lib metal)"
  },
  "language_info": {
   "codemirror_mode": {
    "name": "ipython",
    "version": 2
   },
   "file_extension": ".py",
   "mimetype": "text/x-python",
   "name": "python",
   "nbconvert_exporter": "python",
   "pygments_lexer": "ipython2",
   "version": "2.7.6"
  }
 },
 "nbformat": 4,
 "nbformat_minor": 0
}